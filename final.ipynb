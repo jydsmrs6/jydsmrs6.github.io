{
 "cells": [
  {
   "cell_type": "markdown",
   "metadata": {},
   "source": [
    "<div align=\"center\">\n",
    "\n",
    "# CMSC 320 Final Project: How Much Does Electricity Cost the US?\n",
    "\n",
    "##### A Tutorial and Analysis by Jay Desmarais\n",
    "***\n",
    "\n",
    "</div>"
   ]
  },
  {
   "cell_type": "markdown",
   "metadata": {},
   "source": [
    "<div align=\"center\">\n",
    "\n",
    "### Introduction\n",
    "\n",
    "</div>\n",
    "\n",
    "With a rising concern for the world's health and climate change, all things energy are a big topic. Researchers are finding the best ways to harness renewable energy efficiently, companies are turning away from the use of fossil fuels, people are buying electric cars, and electric people are starting to rely on their electric companies a little less, by installing their own solar panels. With all this happening, there are still large providers in every state that a huge portion of the United States rely on to get their electricity, and over the years, their means of obtaining and distributing said electricity may vary, whether they start relying more on nuclear plants, solar panels, or other more renewable sources, but how has this, among many other obstables, investments, failures, or more impacted the price of electricity. \n",
    "\n",
    "This analysis and tutorial will take a look at the U.S Department of Energy's data on the average price of electricity in each US state from the years 1990 - 2020 in their dataset titled \"Average Price (Cents/kilowatthour) by State by Provider, 1990-2020\". By taking a look at this data, we hope to find possible trends in prices accross the nation, in specific states or regions, and across time.\n",
    "\n",
    "<div align=\"center\">\n",
    "\n",
    "### Required Tools and Libraries\n",
    "\n",
    "</div>\n",
    "\n",
    "The following tools and libraries are required for different aspects of this tutorial:\n",
    "\n",
    "1. urllib.request \n",
    "2. pandas\n",
    "3. numpys\n",
    "4. matplotlib.pyplot\n",
    "5. re\n",
    "6. datetime\n",
    "7. bs4\n",
    "\n",
    "\n",
    "To import these packages, the following code can be used: "
   ]
  },
  {
   "cell_type": "code",
   "execution_count": 35,
   "metadata": {},
   "outputs": [],
   "source": [
    "import urllib.request as request\n",
    "import pandas as pd\n",
    "import numpy as np\n",
    "import matplotlib.pyplot as plt\n",
    "import re\n",
    "import json\n",
    "from datetime import datetime\n",
    "from bs4 import BeautifulSoup"
   ]
  },
  {
   "cell_type": "markdown",
   "metadata": {},
   "source": [
    "<div align=\"center\">\n",
    "\n",
    "### Data Collection\n",
    "\n",
    "</div>"
   ]
  },
  {
   "cell_type": "code",
   "execution_count": 39,
   "metadata": {},
   "outputs": [
    {
     "data": {
      "text/html": [
       "<div>\n",
       "<style scoped>\n",
       "    .dataframe tbody tr th:only-of-type {\n",
       "        vertical-align: middle;\n",
       "    }\n",
       "\n",
       "    .dataframe tbody tr th {\n",
       "        vertical-align: top;\n",
       "    }\n",
       "\n",
       "    .dataframe thead th {\n",
       "        text-align: right;\n",
       "    }\n",
       "</style>\n",
       "<table border=\"1\" class=\"dataframe\">\n",
       "  <thead>\n",
       "    <tr style=\"text-align: right;\">\n",
       "      <th></th>\n",
       "      <th>Year</th>\n",
       "      <th>State</th>\n",
       "      <th>Industry Sector Category</th>\n",
       "      <th>Residential</th>\n",
       "      <th>Commercial</th>\n",
       "      <th>Industrial</th>\n",
       "      <th>Transportation</th>\n",
       "      <th>Other</th>\n",
       "      <th>Total</th>\n",
       "    </tr>\n",
       "  </thead>\n",
       "  <tbody>\n",
       "    <tr>\n",
       "      <th>0</th>\n",
       "      <td>2020</td>\n",
       "      <td>AK</td>\n",
       "      <td>Total Electric Industry</td>\n",
       "      <td>22.57</td>\n",
       "      <td>19.58</td>\n",
       "      <td>15.88</td>\n",
       "      <td>0.00</td>\n",
       "      <td>NaN</td>\n",
       "      <td>19.82</td>\n",
       "    </tr>\n",
       "    <tr>\n",
       "      <th>1</th>\n",
       "      <td>2020</td>\n",
       "      <td>AL</td>\n",
       "      <td>Total Electric Industry</td>\n",
       "      <td>12.58</td>\n",
       "      <td>11.55</td>\n",
       "      <td>5.87</td>\n",
       "      <td>0.00</td>\n",
       "      <td>NaN</td>\n",
       "      <td>9.84</td>\n",
       "    </tr>\n",
       "    <tr>\n",
       "      <th>2</th>\n",
       "      <td>2020</td>\n",
       "      <td>AR</td>\n",
       "      <td>Total Electric Industry</td>\n",
       "      <td>10.41</td>\n",
       "      <td>8.61</td>\n",
       "      <td>5.89</td>\n",
       "      <td>13.32</td>\n",
       "      <td>NaN</td>\n",
       "      <td>8.32</td>\n",
       "    </tr>\n",
       "    <tr>\n",
       "      <th>3</th>\n",
       "      <td>2020</td>\n",
       "      <td>AZ</td>\n",
       "      <td>Total Electric Industry</td>\n",
       "      <td>12.27</td>\n",
       "      <td>10.11</td>\n",
       "      <td>6.07</td>\n",
       "      <td>9.38</td>\n",
       "      <td>NaN</td>\n",
       "      <td>10.44</td>\n",
       "    </tr>\n",
       "    <tr>\n",
       "      <th>4</th>\n",
       "      <td>2020</td>\n",
       "      <td>CA</td>\n",
       "      <td>Total Electric Industry</td>\n",
       "      <td>20.45</td>\n",
       "      <td>17.53</td>\n",
       "      <td>14.27</td>\n",
       "      <td>10.07</td>\n",
       "      <td>NaN</td>\n",
       "      <td>18.00</td>\n",
       "    </tr>\n",
       "  </tbody>\n",
       "</table>\n",
       "</div>"
      ],
      "text/plain": [
       "   Year State Industry Sector Category  Residential  Commercial  Industrial  \\\n",
       "0  2020    AK  Total Electric Industry        22.57       19.58       15.88   \n",
       "1  2020    AL  Total Electric Industry        12.58       11.55        5.87   \n",
       "2  2020    AR  Total Electric Industry        10.41        8.61        5.89   \n",
       "3  2020    AZ  Total Electric Industry        12.27       10.11        6.07   \n",
       "4  2020    CA  Total Electric Industry        20.45       17.53       14.27   \n",
       "\n",
       "   Transportation  Other  Total  \n",
       "0            0.00    NaN  19.82  \n",
       "1            0.00    NaN   9.84  \n",
       "2           13.32    NaN   8.32  \n",
       "3            9.38    NaN  10.44  \n",
       "4           10.07    NaN  18.00  "
      ]
     },
     "execution_count": 39,
     "metadata": {},
     "output_type": "execute_result"
    }
   ],
   "source": [
    "\n",
    "url = \"https://www.energy.gov/sites/default/files/2022-05/PDL-05-04-2022.json\"\n",
    "response = request.urlopen(url)\n",
    "data = json.loads(response.read())\n",
    "\n",
    "for dataset in data['dataset']:\n",
    "    if dataset['title'] == 'Annual Electricity Price by State':\n",
    "        energy_dataset = dataset\n",
    "        break\n",
    "\n",
    "data_url = energy_dataset['distribution'][0]['downloadURL']\n",
    "\n",
    "df = pd.read_excel(data_url, header=1)\n",
    "\n",
    "df.head()"
   ]
  },
  {
   "cell_type": "markdown",
   "metadata": {},
   "source": [
    "<div align=\"center\">\n",
    "\n",
    "### Data Management and Representation\n",
    "\n",
    "</div>"
   ]
  },
  {
   "cell_type": "code",
   "execution_count": null,
   "metadata": {},
   "outputs": [],
   "source": []
  },
  {
   "cell_type": "markdown",
   "metadata": {},
   "source": [
    "<div align=\"center\">\n",
    "\n",
    "### Exploratory Data Analysis\n",
    "\n",
    "</div>"
   ]
  },
  {
   "cell_type": "code",
   "execution_count": null,
   "metadata": {},
   "outputs": [],
   "source": []
  },
  {
   "cell_type": "markdown",
   "metadata": {},
   "source": [
    "<div align=\"center\">\n",
    "\n",
    "### Hypothesis Testing\n",
    "\n",
    "</div>"
   ]
  },
  {
   "cell_type": "code",
   "execution_count": null,
   "metadata": {},
   "outputs": [],
   "source": []
  },
  {
   "cell_type": "markdown",
   "metadata": {},
   "source": [
    "<div align=\"center\">\n",
    "\n",
    "### Communication of Insights Attained\n",
    "\n",
    "</div>"
   ]
  }
 ],
 "metadata": {
  "interpreter": {
   "hash": "916dbcbb3f70747c44a77c7bcd40155683ae19c65e1c03b4aa3499c5328201f1"
  },
  "kernelspec": {
   "display_name": "Python 3.8.10 64-bit",
   "language": "python",
   "name": "python3"
  },
  "language_info": {
   "codemirror_mode": {
    "name": "ipython",
    "version": 3
   },
   "file_extension": ".py",
   "mimetype": "text/x-python",
   "name": "python",
   "nbconvert_exporter": "python",
   "pygments_lexer": "ipython3",
   "version": "3.8.10"
  },
  "orig_nbformat": 4
 },
 "nbformat": 4,
 "nbformat_minor": 2
}
